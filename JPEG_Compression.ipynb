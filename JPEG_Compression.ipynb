{
 "cells": [
  {
   "cell_type": "markdown",
   "metadata": {},
   "source": [
    "# JPEG Compression"
   ]
  },
  {
   "cell_type": "markdown",
   "metadata": {},
   "source": [
    "- Valérian FAYT <valerian.fayt>\n",
    "- Romain HERMARY <romain.hermary>\n",
    "- Quentin LE HELLOCO <quentin.le-helloco>"
   ]
  },
  {
   "cell_type": "markdown",
   "metadata": {},
   "source": [
    "## Project\n",
    "\n",
    "#### In this notebook, you have to:\n",
    "* Illustrate and comment every different step of your algorithm, like if you had to explain it to someone who never heard of JPEG.\n",
    "* Implement and analyses all relevant tests to demonstrate the proper functioning of the algorithm.\n",
    "\n",
    "#### Your JPEG code should at least:\n",
    "* Manage color, leaving the choice to the user to compress in RGB or YUV, as well as the sub-sampling options (4:4:4, 4:2:2 and 4:2:0) of chrominance.\n",
    "* Manage images whose dimensions are not 8 multiples\n",
    "* Let the user choose the quality indicator q for the luminance quantification matrix.\n",
    "* Return for each macro-block, a compression indicator. This indicator may be define as in the course (number of coefficient by macro-block to code without compression (64) divide by the number of coefficient not null after zigzag linearisation of the DCT quantified matrix). It can be any other relevant indicator as well, if the choice is justified.\n",
    "\n",
    "#### Bonus:\n",
    "* Implement the conversion of DCT coefficients after quantification by Huffman table."
   ]
  },
  {
   "cell_type": "markdown",
   "metadata": {},
   "source": [
    "### JPEG Algorithm\n",
    "\n",
    "* Step 1 :\n",
    "Split images in 8x8 blocks (if not multiple, add new columns/row with symmetrical inputs.\n",
    "\n",
    "* Step 2 :\n",
    "Apply DCT matrix (don't forget to -128)\n",
    "\n",
    "* Step 3 :\n",
    "Quantification of the matrix\n",
    "\n",
    "* Step 4 :\n",
    "Zigzag + Huffman compression\n",
    "\n",
    "(Reversible to uncompress JPEG as well)"
   ]
  },
  {
   "cell_type": "markdown",
   "metadata": {},
   "source": [
    "### Import"
   ]
  },
  {
   "cell_type": "code",
   "execution_count": null,
   "metadata": {},
   "outputs": [],
   "source": [
    "import numpy as np\n",
    "from PIL import Image"
   ]
  },
  {
   "cell_type": "markdown",
   "metadata": {},
   "source": [
    "### Get list of pixel from Image"
   ]
  },
  {
   "cell_type": "code",
   "execution_count": null,
   "metadata": {},
   "outputs": [],
   "source": [
    "im = Image.open('Images/amidala_crop.png', 'r')\n",
    "im = im.convert(\"L\")\n",
    "im"
   ]
  },
  {
   "cell_type": "code",
   "execution_count": null,
   "metadata": {},
   "outputs": [],
   "source": [
    "# data = np.asarray(im)\n",
    "#you can create images from array like that (rot90) for this one ->\n",
    "#rotate = Image.fromarray(np.rot90(data), 'L')"
   ]
  },
  {
   "cell_type": "markdown",
   "metadata": {},
   "source": [
    "### Image Split\n",
    "\n",
    "If the image is not a multiple of 8, make it one by adding row and cells.\n",
    "Divide the image into macro-block of 8x8pixels."
   ]
  },
  {
   "cell_type": "code",
   "execution_count": null,
   "metadata": {},
   "outputs": [],
   "source": [
    "def split(data):\n",
    "    \"\"\"\n",
    "    Split a multiple of 8 image into 8x8 macro block list\n",
    "    \"\"\"\n",
    "    \n",
    "    blocks = []\n",
    "    \n",
    "    for i in range(0, data.shape[0], 8):\n",
    "        for j in range(0, data.shape[1], 8):\n",
    "            \n",
    "            block = [[], [], [], [], [], [], [], []]\n",
    "            \n",
    "            for a in range (i, i + 8):\n",
    "                for b in range (j, j + 8):\n",
    "                    block[a - i].append(data[a][b])\n",
    "                    \n",
    "            blocks.append(block)\n",
    "    return blocks"
   ]
  },
  {
   "cell_type": "code",
   "execution_count": null,
   "metadata": {},
   "outputs": [],
   "source": [
    "def multiple_8(matrix):\n",
    "    \"\"\"\n",
    "    Make any dimension image into a multiple of 8 by adding rows and columns\n",
    "    by border pixels mirroring\n",
    "    \"\"\"\n",
    "    \n",
    "    a, b = matrix.shape\n",
    "    print('Dimension:', matrix.shape)\n",
    "\n",
    "    if a % 8 != 0 or b % 8 != 0 :\n",
    "        print(\"Need padding...\")\n",
    "    else:\n",
    "        return matrix\n",
    "\n",
    "    padding_a = 8 - a % 8\n",
    "    padding_b = 8 - b % 8\n",
    "\n",
    "    # If the number of pixels to add on one line or a column, it is problematic\n",
    "    print(\"Padding:\", padding_a, padding_b)\n",
    "    if padding_a > a or padding_b > b:\n",
    "        print(\"Error: cannot do mirror padding, for now\")\n",
    "        return matrix\n",
    "    \n",
    "    matrix = matrix.tolist()\n",
    "    \n",
    "    # Mirror the pixels on the lines by copying and reversing the pixel line\n",
    "    for i in range(a):\n",
    "        tmp = matrix[i][b - padding_b:].copy()\n",
    "        tmp.reverse()\n",
    "        matrix[i] += tmp\n",
    "    \n",
    "    # Mirror the border lines starting from the bottom\n",
    "    for i in range(padding_a):\n",
    "        matrix.append(matrix[a - 1 - i])\n",
    "    \n",
    "    matrix = np.array(matrix)\n",
    "    print('New Dimension:', matrix.shape)\n",
    "\n",
    "    return matrix.astype('uint8')"
   ]
  },
  {
   "cell_type": "code",
   "execution_count": null,
   "metadata": {},
   "outputs": [],
   "source": [
    "test = np.arange(1, 127)\n",
    "test = test.reshape(9, 14)\n",
    "\n",
    "test = multiple_8(test)\n",
    "print(test)"
   ]
  },
  {
   "cell_type": "code",
   "execution_count": null,
   "metadata": {},
   "outputs": [],
   "source": [
    "# Load the image into a numpy matrix\n",
    "data = np.asarray(im)\n",
    "\n",
    "# Make the matrix dimensions multiples of 8\n",
    "data = multiple_8(data)\n",
    "img = Image.fromarray(data, 'L')\n",
    "display(img)\n",
    "\n",
    "# Cut into macro-block\n",
    "macro_blocks = split(data)"
   ]
  },
  {
   "cell_type": "code",
   "execution_count": null,
   "metadata": {},
   "outputs": [],
   "source": [
    "# See a macro-block\n",
    "len(macro_blocks)\n",
    "block = macro_blocks[3479]\n",
    "test_block = np.array(block)\n",
    "test_macro = Image.fromarray(test_block, 'L')\n",
    "\n",
    "test_macro = test_macro.resize((200,200), resample=0)\n",
    "display(test_macro)\n",
    "block"
   ]
  },
  {
   "cell_type": "markdown",
   "metadata": {},
   "source": [
    "### Apply DCT matrix\n",
    "\n",
    "explain here"
   ]
  },
  {
   "cell_type": "code",
   "execution_count": null,
   "metadata": {},
   "outputs": [],
   "source": []
  },
  {
   "cell_type": "markdown",
   "metadata": {},
   "source": [
    "### Quantification of the matrix\n",
    "\n",
    "Explain here"
   ]
  },
  {
   "cell_type": "code",
   "execution_count": null,
   "metadata": {},
   "outputs": [],
   "source": []
  },
  {
   "cell_type": "markdown",
   "metadata": {},
   "source": [
    "### Zigzag + Huffman\n",
    "\n",
    "Explain here"
   ]
  },
  {
   "cell_type": "code",
   "execution_count": null,
   "metadata": {},
   "outputs": [],
   "source": [
    "def zigzag(matrix):\n",
    "    x, y = 0, 0\n",
    "    a, b = 7, 7\n",
    "    direction = (0, 0)\n",
    "    res = []\n",
    "    \n",
    "    while True:\n",
    "        res.append(matrix[x][y])\n",
    "        if y == b:\n",
    "            res.append(matrix[x + 1][y])\n",
    "            y -= 1\n",
    "            x += 2\n",
    "            direction = (1, -1)\n",
    "        elif x == 0:\n",
    "            res.append(matrix[x][y + 1])\n",
    "            x +=1\n",
    "            direction = (1, -1)\n",
    "        elif x == a:\n",
    "            res.append(matrix[x][y + 1])\n",
    "            if y + 1 == b:\n",
    "                break\n",
    "            y += 2\n",
    "            x -= 1\n",
    "            direction = (-1, 1)\n",
    "        elif y == 0:\n",
    "            res.append(matrix[x + 1][y])\n",
    "            y += 1\n",
    "            direction = (-1, 1)\n",
    "        else:\n",
    "            x += direction[0]\n",
    "            y += direction[1]\n",
    "\n",
    "    return res"
   ]
  },
  {
   "cell_type": "code",
   "execution_count": null,
   "metadata": {},
   "outputs": [],
   "source": [
    "test = np.arange(1, 65)\n",
    "test = test.reshape(8, 8)\n",
    "\n",
    "print(test)\n",
    "\n",
    "zz = zigzag(test)\n",
    "print(zz)"
   ]
  },
  {
   "cell_type": "markdown",
   "metadata": {},
   "source": [
    "### RGB - YUV \n",
    "Explain here"
   ]
  },
  {
   "cell_type": "code",
   "execution_count": null,
   "metadata": {},
   "outputs": [],
   "source": []
  },
  {
   "cell_type": "code",
   "execution_count": null,
   "metadata": {},
   "outputs": [],
   "source": []
  }
 ],
 "metadata": {
  "kernelspec": {
   "display_name": "Python 3",
   "language": "python",
   "name": "python3"
  },
  "language_info": {
   "codemirror_mode": {
    "name": "ipython",
    "version": 3
   },
   "file_extension": ".py",
   "mimetype": "text/x-python",
   "name": "python",
   "nbconvert_exporter": "python",
   "pygments_lexer": "ipython3",
   "version": "3.8.3"
  }
 },
 "nbformat": 4,
 "nbformat_minor": 4
}
