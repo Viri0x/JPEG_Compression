{
 "cells": [
  {
   "cell_type": "markdown",
   "metadata": {},
   "source": [
    "# JPEG Compression"
   ]
  },
  {
   "cell_type": "markdown",
   "metadata": {},
   "source": [
    "- Valérian FAYT <valerian.fayt>\n",
    "- Romain HERMARY <romain.hermary>\n",
    "- Quentin LE HELLOCO <quentin.le-helloco>"
   ]
  },
  {
   "cell_type": "markdown",
   "metadata": {},
   "source": [
    "## Project\n",
    "\n",
    "#### In this notebook, you have to:\n",
    "* Illustrate and comment every different step of your algorithm, like if you had to explain it to someone who never heard of JPEG.\n",
    "* Implement and analyses all relevant tests to demonstrate the proper functioning of the algorithm.\n",
    "\n",
    "#### Your JPEG code should at least:\n",
    "* Manage color, leaving the choice to the user to compress in RGB or YUV, as well as the sub-sampling options (4:4:4, 4:2:2 and 4:2:0) of chrominance.\n",
    "* Manage images whose dimensions are not 8 multiples\n",
    "* Let the user choose the quality indicator q for the luminance quantification matrix.\n",
    "* Return for each macro-block, a compression indicator. This indicator may be define as in the course (number of coefficient by macro-block to code without compression (64) divide by the number of coefficient not null after zigzag linearisation of the DCT quantified matrix). It can be any other relevant indicator as well, if the choice is justified.\n",
    "\n",
    "#### Bonus:\n",
    "* Implement the conversion of DCT coefficients after quantification by Huffman table."
   ]
  },
  {
   "cell_type": "markdown",
   "metadata": {},
   "source": [
    "### JPEG Algorithm Summary\n",
    "\n",
    "* Step 1 :\n",
    "Split images in 8x8 blocks (if not multiple, add new columns/row with symmetrical inputs).\n",
    "\n",
    "* Step 2 :\n",
    "Apply DCT matrix (don't forget to -128)\n",
    "\n",
    "* Step 3 :\n",
    "Quantization of the matrix\n",
    "\n",
    "* Step 4 :\n",
    "Zigzag + Huffman compression\n",
    "\n",
    "(Reversible to uncompress JPEG as well)"
   ]
  },
  {
   "cell_type": "markdown",
   "metadata": {},
   "source": [
    "### Imports"
   ]
  },
  {
   "cell_type": "code",
   "execution_count": null,
   "metadata": {},
   "outputs": [],
   "source": [
    "# Numpy for the maths involving matrices\n",
    "# Image for calculus on images\n",
    "import numpy as np\n",
    "from PIL import Image"
   ]
  },
  {
   "cell_type": "markdown",
   "metadata": {},
   "source": [
    "### Get list of pixels from image"
   ]
  },
  {
   "cell_type": "code",
   "execution_count": null,
   "metadata": {},
   "outputs": [],
   "source": [
    "# A great picture... no We're not Star Wars fans! Why would you say that!\n",
    "im = Image.open('Images/amidala_crop.png', 'r')\n",
    "im = im.convert(\"L\")\n",
    "display(\"Original Image\",im)"
   ]
  },
  {
   "cell_type": "markdown",
   "metadata": {},
   "source": [
    "### Image Split\n",
    "\n",
    "###### If the image's dimensions are not multiples of 8, make them by adding rows and columns, then divide the image into a list of 8x8 pixels macro-blocks."
   ]
  },
  {
   "cell_type": "code",
   "execution_count": null,
   "metadata": {},
   "outputs": [],
   "source": [
    "def split(data):\n",
    "    \"\"\"\n",
    "    Split a multiple of 8 image into 8x8 macro block list\n",
    "    \"\"\"\n",
    "    \n",
    "    blocks = []\n",
    "    \n",
    "    for i in range(0, data.shape[0], 8):\n",
    "        for j in range(0, data.shape[1], 8):\n",
    "            \n",
    "            block = [[], [], [], [], [], [], [], []]\n",
    "            \n",
    "            for a in range (i, i + 8):\n",
    "                for b in range (j, j + 8):\n",
    "                    block[a - i].append(data[a][b])\n",
    "                    \n",
    "            blocks.append(block)\n",
    "    return blocks"
   ]
  },
  {
   "cell_type": "code",
   "execution_count": null,
   "metadata": {},
   "outputs": [],
   "source": [
    "def multiple_8(matrix, debug=False):\n",
    "    \"\"\"\n",
    "    Make any image's dimension into a multiple of 8 by adding rows and columns\n",
    "    by border pixels mirroring (symmetry)\n",
    "    \"\"\"\n",
    "    \n",
    "    a, b = matrix.shape\n",
    "\n",
    "    if a % 8 != 0 or b % 8 != 0 :\n",
    "        if debug:\n",
    "            print(\"Need padding...\")\n",
    "    else:\n",
    "        return matrix\n",
    "\n",
    "    padding_a = 8 - a % 8\n",
    "    padding_b = 8 - b % 8\n",
    "\n",
    "    # If the number of pixels to add on one line or a column is more\n",
    "    # than the number of pixels available, it is problematic\n",
    "    if padding_a > a or padding_b > b:\n",
    "        print(\"Error: cannot do mirror padding, for now\")\n",
    "        return matrix\n",
    "    \n",
    "    matrix = matrix.tolist()\n",
    "    \n",
    "    # Mirror the pixels on the lines by copying and reversing the pixel line\n",
    "    for i in range(a):\n",
    "        tmp = matrix[i][b - padding_b:].copy()\n",
    "        tmp.reverse()\n",
    "        matrix[i] += tmp\n",
    "    \n",
    "    # Mirror the border lines starting from the bottom\n",
    "    for i in range(padding_a):\n",
    "        matrix.append(matrix[a - 1 - i])\n",
    "    \n",
    "    matrix = np.array(matrix)\n",
    "    \n",
    "    if debug:\n",
    "        print('Dimension:', (a, b))\n",
    "        print(\"Padding:\", padding_a, padding_b)\n",
    "        print('New Dimension:', matrix.shape)\n",
    "        \n",
    "\n",
    "    # The type of the matrix needs to be uint8\n",
    "    return matrix.astype('uint8')"
   ]
  },
  {
   "cell_type": "code",
   "execution_count": null,
   "metadata": {},
   "outputs": [],
   "source": [
    "### SPLIT AND RESIZE TEST AREA ###\n",
    "\n",
    "# Load the image into a numpy matrix\n",
    "data = np.asarray(im)\n",
    "\n",
    "# Make the matrix dimensions multiples of 8\n",
    "data = multiple_8(data, debug=True)\n",
    "img = Image.fromarray(data, 'L')\n",
    "display(img)\n",
    "\n",
    "# Cut into macro-block\n",
    "macro_blocks = split(data)"
   ]
  },
  {
   "cell_type": "markdown",
   "metadata": {},
   "source": [
    " ###### For the purpose of this JPEG summary, we will take a look at one of the macro-block specifically.\n",
    " We randomly choose the 3104."
   ]
  },
  {
   "cell_type": "code",
   "execution_count": null,
   "metadata": {},
   "outputs": [],
   "source": [
    "# See a macro-block\n",
    "block = macro_blocks[3104]\n",
    "test_block = np.array(block)\n",
    "test_macro = Image.fromarray(test_block, 'L')\n",
    "\n",
    "# resize it to 200x200 because it's too small otherwise\n",
    "test_macro = test_macro.resize((200,200), resample=0)\n",
    "display(test_macro)\n",
    "print(test_block)"
   ]
  },
  {
   "cell_type": "markdown",
   "metadata": {},
   "source": [
    "### Apply DCT matrix\n",
    "\n",
    "##### The DCT matrix represents different pattern images of 8x8 blocks depending on high-low frequency\n",
    "##### We use this matrix as the new base for our image. In other words, we describe each macro block as a sum of each 8x8 pattern of the DCT matrix."
   ]
  },
  {
   "cell_type": "code",
   "execution_count": null,
   "metadata": {},
   "outputs": [],
   "source": [
    "#Create DCT matrix for NxN dimensions\n",
    "def DCT(N):\n",
    "    \n",
    "    mat = np.zeros(shape=(N,N))\n",
    "    \n",
    "    for i in range (N):\n",
    "        mat[0,i] = np.sqrt(1/N)\n",
    "        \n",
    "    for i in range (1, N):\n",
    "        for j in range (N):\n",
    "            mat[i,j] = np.sqrt(2/N) * np.cos(np.pi * (2 * j + 1) * i / (2 * N))\n",
    "    \n",
    "    return mat"
   ]
  },
  {
   "cell_type": "code",
   "execution_count": null,
   "metadata": {},
   "outputs": [],
   "source": [
    "# Compute the 8x8 DCT matrix\n",
    "D8 = DCT(8)"
   ]
  },
  {
   "cell_type": "code",
   "execution_count": null,
   "metadata": {},
   "outputs": [],
   "source": [
    "macros = np.array(macro_blocks)\n",
    "\n",
    "Im_DCT = np.round(D8 @ (macros - 128) @ D8.T)\n",
    "\n",
    "#Look a the same previous macro block (3104)\n",
    "print(\"3104th macro block applied to DCT:\\n\", Im_DCT[3104])"
   ]
  },
  {
   "cell_type": "code",
   "execution_count": null,
   "metadata": {},
   "outputs": [],
   "source": [
    "# Working like in the slide\n",
    "\n",
    "course_mat = [[52, 55, 61, 66, 70, 61, 64, 73],\n",
    "             [63, 59, 55, 90, 109, 85, 69, 72],\n",
    "             [62, 59, 68, 113, 144, 104, 66, 73],\n",
    "             [63, 58, 71, 122, 154, 106, 70, 69],\n",
    "             [67, 61, 68, 104, 126, 88, 68, 70],\n",
    "             [79, 65, 60, 70, 77, 68, 58, 75],\n",
    "             [85, 71, 64, 59, 55, 61, 65, 83],\n",
    "             [87, 79, 69, 68, 65, 76, 78, 94]]\n",
    "\n",
    "mat_bi = np.array(course_mat)\n",
    "\n",
    "print(mat_bi)\n",
    "print()\n",
    "\n",
    "bi = np.round(D8 @ (mat_bi - 128) @ D8.T)\n",
    "\n",
    "print(bi)"
   ]
  },
  {
   "cell_type": "markdown",
   "metadata": {},
   "source": [
    "### Quantization of the matrix\n",
    "\n",
    "##### Using a predefine quantization matrix (thanks JPEG team), we can quantize the DCT matrix we obtained to reduce the values and increase the compression. \n",
    "##### We can specify a q factor to select a more advanced compression level (low q means low quality/high compression and reverse). Default is q = 50"
   ]
  },
  {
   "cell_type": "code",
   "execution_count": null,
   "metadata": {},
   "outputs": [],
   "source": [
    "# Create Matrix Quantification\n",
    "def quantization(q=50):\n",
    "    mat = np.zeros(shape=(8,8))\n",
    "    \n",
    "    Q_arr = [[16, 11, 10, 16, 24, 40, 51, 61],\n",
    "         [12, 12, 14, 19, 26, 58, 60, 55],\n",
    "         [14, 13, 16, 24, 40, 57, 69, 56],\n",
    "         [14, 17, 22, 29, 51, 87, 80, 62],\n",
    "         [18, 22, 37, 56, 68, 109, 103, 77],\n",
    "         [24, 35, 55, 64, 81, 104, 113, 92],\n",
    "         [49, 64, 78, 87, 103, 121, 120, 101],\n",
    "         [72, 92, 95, 98, 112, 100, 103, 99]]\n",
    "    \n",
    "    Q = np.array(Q_arr)\n",
    "    \n",
    "    if q < 50:\n",
    "        a = 5000/q\n",
    "    else:\n",
    "        a = 200 - 2 * q\n",
    "        \n",
    "    return np.floor((a * Q + 50 )/ 100)\n",
    "        "
   ]
  },
  {
   "cell_type": "markdown",
   "metadata": {},
   "source": [
    "##### Here is a look at the default q=50 quantization matrix"
   ]
  },
  {
   "cell_type": "code",
   "execution_count": null,
   "metadata": {},
   "outputs": [],
   "source": [
    "quantization()"
   ]
  },
  {
   "cell_type": "markdown",
   "metadata": {},
   "source": [
    "##### We divide (element-wise) our macro-blocks with the quantization matrix"
   ]
  },
  {
   "cell_type": "code",
   "execution_count": null,
   "metadata": {},
   "outputs": [],
   "source": [
    "# Same as in the slide\n",
    "bi_q = np.round(bi / quantization())\n",
    "print(bi_q)"
   ]
  },
  {
   "cell_type": "code",
   "execution_count": null,
   "metadata": {},
   "outputs": [],
   "source": [
    "# For our real image\n",
    "Im_q = np.round(Im_DCT / quantization())\n",
    "\n",
    "# Always our little 3104 favorite macro-block\n",
    "print(\"3104th macro block quantize to q = 50:\\n\", Im_q[3104])"
   ]
  },
  {
   "cell_type": "markdown",
   "metadata": {},
   "source": [
    "### Zigzag\n",
    "\n",
    "###### Seeing the face of the matrix, we can deduce that using a \"zigzag\" method of storing inputs will leads to a lot of 0 at the end that we can throw to reduce the overall data."
   ]
  },
  {
   "cell_type": "code",
   "execution_count": null,
   "metadata": {},
   "outputs": [],
   "source": [
    "# Zigzag travel of a 8x8 matrix\n",
    "def zigzag(matrix):\n",
    "    x, y = 0, 0\n",
    "    a, b = 7, 7\n",
    "    direction = (0, 0)\n",
    "    res = []\n",
    "    \n",
    "    while True:\n",
    "        res.append(matrix[x][y])\n",
    "        if y == b:\n",
    "            res.append(matrix[x + 1][y])\n",
    "            y -= 1\n",
    "            x += 2\n",
    "            direction = (1, -1)\n",
    "        elif x == 0:\n",
    "            res.append(matrix[x][y + 1])\n",
    "            x +=1\n",
    "            direction = (1, -1)\n",
    "        elif x == a:\n",
    "            res.append(matrix[x][y + 1])\n",
    "            if y + 1 == b:\n",
    "                break\n",
    "            y += 2\n",
    "            x -= 1\n",
    "            direction = (-1, 1)\n",
    "        elif y == 0:\n",
    "            res.append(matrix[x + 1][y])\n",
    "            y += 1\n",
    "            direction = (-1, 1)\n",
    "        else:\n",
    "            x += direction[0]\n",
    "            y += direction[1]\n",
    "\n",
    "    return res"
   ]
  },
  {
   "cell_type": "code",
   "execution_count": null,
   "metadata": {},
   "outputs": [],
   "source": [
    "# Remove unnecessary zeros at the end of the list\n",
    "def zero_removal(l):\n",
    "    i = len(l) - 1\n",
    "    while i >= 0 and l[i] == 0:\n",
    "        i -= 1\n",
    "        \n",
    "    return l[:i + 1]"
   ]
  },
  {
   "cell_type": "code",
   "execution_count": null,
   "metadata": {},
   "outputs": [],
   "source": [
    "# Like in the slide\n",
    "ms = zero_removal(zigzag(bi_q))\n",
    "print(ms)"
   ]
  },
  {
   "cell_type": "markdown",
   "metadata": {},
   "source": [
    "#### We can compute a Compression Ratio by dividing the 64 coefficients in a 8x8 matrix with the remaining coefficient after doing the zigzag and removed the trailing 0"
   ]
  },
  {
   "cell_type": "code",
   "execution_count": null,
   "metadata": {},
   "outputs": [],
   "source": [
    "# Back to our image\n",
    "# We compute a list of all macro-blocks zigzaged and removed from ending zeros\n",
    "Im_zig = []\n",
    "\n",
    "for i in range (len(Im_q)):\n",
    "    Im_zig.append(zero_removal(zigzag(Im_q[i])))\n",
    "\n",
    "# Hello to our little 3104 macro-block again!\n",
    "print(\"Zigzag of macro-block 3104:\",np.array(Im_zig[3104]), end=\"\\n\\n\")\n",
    "# Compression ratio for the 3104th macro-block:\n",
    "print(\"compression ratio of macro block 3104: \",64 / len(Im_zig[3104]), end=\"\\n\\n\\n\")\n",
    "\n",
    "# Maybe another?\n",
    "print(\"Zigzag of macro-block 3105: \", Im_zig[3105], end=\"\\n\\n\")\n",
    "print(\"compression ratio of macro block 3105: \",64 / len(Im_zig[3105]), end=\"\\n\\n\\n\")\n",
    "\n",
    "# Calculate the mean compression ratio:\n",
    "means=0\n",
    "for macros_b in Im_zig:\n",
    "    means += 64 / len(macros_b)\n",
    "\n",
    "means/=len(Im_zig)\n",
    "print(\"Mean compression ratio for all macro-blocks: \", means)"
   ]
  },
  {
   "cell_type": "markdown",
   "metadata": {},
   "source": [
    "### Huffman\n",
    "\n",
    "##### Huffman is used with optimised tables to compress data into shorter bites. It is an encoding process to make lighter jpg files."
   ]
  },
  {
   "cell_type": "code",
   "execution_count": null,
   "metadata": {},
   "outputs": [],
   "source": [
    "def category(n):\n",
    "    \"\"\"\n",
    "    Derives the category of the given number, following the JPEG tables.\n",
    "    Return the category and the boundaries of the latter for following calculus.\n",
    "    \"\"\"\n",
    "    if n == 0:\n",
    "        return 0\n",
    "    \n",
    "    bound = 2\n",
    "    res = 1\n",
    "    while bound <= 32768:\n",
    "        if -(bound - 1) <= n <= bound - 1:\n",
    "            return res, (int(bound / 2), bound - 1)\n",
    "        \n",
    "        res += 1\n",
    "        bound *= 2\n",
    "        \n",
    "    return -1, (-1, -1)"
   ]
  },
  {
   "cell_type": "code",
   "execution_count": null,
   "metadata": {},
   "outputs": [],
   "source": [
    "# These codes were used to extract te AC codes for luminance table\n",
    "# The file 'category2' contains the values of the site given, but as the table\n",
    "# was not complete, we found the rest of it elsewhere (the 'category' file)\n",
    "# https://engineering.purdue.edu/~bouman/ece637/previous/ece637F1998/labs/lab8/pdf/lab.pdf\n",
    "# As it is always the same, it is hard coded in the cell below\n",
    "\"\"\"\n",
    "ac_code = dict()\n",
    "\"\"\"\n",
    "# 'category' extraction\n",
    "\"\"\"\n",
    "with open(\"category\", \"r\") as category:\n",
    "    category = category.readlines()\n",
    "    for line in category:\n",
    "        line = line.split(' ')\n",
    "        key = line[0].split('/')\n",
    "        if line[2][-1] == '\\n':\n",
    "            line[2] = line[2][:-1]\n",
    "        ac_code[(int(key[0], 16), int(key[1], 16))] = line[2]\n",
    "\"\"\"\n",
    "\n",
    "# 'category2' extraction\n",
    "\"\"\"\n",
    "with open(\"category2\", \"r\") as category:\n",
    "    category = category.readlines()\n",
    "    i = 0\n",
    "    while i < len(category):\n",
    "        key = category[i][:-1].split(',')\n",
    "        if category[i + 2][-1] == '\\n':\n",
    "            category[i + 2] = category[i + 2][:-1]\n",
    "        ac_code[int(key[0]), int(key[1])] = category[i + 2]\n",
    "        i += 4\n",
    "\"\"\"\n",
    "\"\"\"\n",
    "print(ac_code)\n",
    "\"\"\""
   ]
  },
  {
   "cell_type": "code",
   "execution_count": null,
   "metadata": {},
   "outputs": [],
   "source": [
    "# The tables stored as dictionnaries\n",
    "dc_code = {\n",
    "    0: \"00\",\n",
    "    1: \"010\",\n",
    "    2: \"011\",\n",
    "    3: \"100\",\n",
    "    4: \"101\",\n",
    "    5: \"110\",\n",
    "    6: \"1110\",\n",
    "    7: \"11110\",\n",
    "    8: \"111110\",\n",
    "    9: \"1111110\",\n",
    "    10: \"11111110\",\n",
    "    11: \"111111110\"\n",
    "}\n",
    "\n",
    "ac_code = {(0, 1): '00', (0, 2): '01', (0, 3): '100', (0, 4): '1011', (0, 5): '11010', (0, 6): '1111000', (0, 7): '11111000', (0, 8): '1111110110', (0, 9): '1111111110000010', (0, 10): '1111111110000011', (1, 1): '1100', (1, 2): '11011', (1, 3): '1111001', (1, 4): '111110110', (1, 5): '11111110110', (1, 6): '1111111110000100', (1, 7): '1111111110000101', (1, 8): '1111111110000110', (1, 9): '1111111110000111', (1, 10): '1111111110001000', (2, 1): '11100', (2, 2): '11111001', (2, 3): '1111110111', (2, 4): '111111110100', (2, 5): '1111111110001001', (2, 6): '1111111110001010', (2, 7): '1111111110001011', (2, 8): '1111111110001100', (2, 9): '1111111110001101', (2, 10): '1111111110001110', (3, 1): '111010', (3, 2): '111110111', (3, 3): '111111110101', (3, 4): '1111111110001111', (3, 5): '1111111110010000', (3, 6): '1111111110010001', (3, 7): '1111111110010010', (3, 8): '1111111110010011', (3, 9): '1111111110010100', (3, 10): '1111111110010101', (4, 1): '111011', (4, 2): '1111111000', (4, 3): '1111111110010110', (4, 4): '1111111110010111', (4, 5): '1111111110011000', (4, 6): '1111111110011001', (4, 7): '1111111110011010', (4, 8): '1111111110011011', (4, 9): '1111111110011100', (4, 10): '1111111110011101', (5, 1): '1111010', (5, 2): '11111110111', (5, 3): '1111111110011110', (5, 4): '1111111110011111', (5, 5): '1111111110100000', (5, 6): '1111111110100001', (5, 7): '1111111110100010', (5, 8): '1111111110100011', (5, 9): '1111111110100100', (5, 10): '1111111110100101', (6, 1): '1111011', (6, 2): '111111110110', (6, 3): '1111111110100110', (6, 4): '1111111110100111', (6, 5): '1111111110101000', (6, 6): '1111111110101001', (6, 7): '1111111110101010', (6, 8): '1111111110101011', (6, 9): '1111111110101100', (6, 10): '1111111110101101', (7, 1): '11111010', (7, 2): '111111110111', (7, 3): '1111111110101110', (7, 4): '1111111110101111', (7, 5): '1111111110110000', (7, 6): '1111111110110001', (7, 7): '1111111110110010', (7, 8): '1111111110110011', (7, 9): '1111111110110100', (7, 10): '1111111110110101', (8, 1): '111111000', (8, 2): '111111111000000', (8, 3): '1111111110110110', (8, 4): '1111111110110111', (8, 5): '1111111110111000', (8, 6): '1111111110111001', (8, 7): '1111111110111010', (8, 8): '1111111110111011', (8, 9): '1111111110111100', (8, 10): '1111111110111101', (9, 1): '111111001', (9, 2): '1111111110111110', (9, 3): '1111111110111111', (9, 4): '1111111111000000', (9, 5): '1111111111000001', (9, 6): '1111111111000010', (9, 7): '1111111111000011', (9, 8): '1111111111000100', (9, 9): '1111111111000101', (9, 10): '1111111111000110', (10, 1): '111111010', (10, 2): '1111111111000111', (10, 3): '1111111111001000', (10, 4): '1111111111001001', (10, 5): '1111111111001010', (10, 6): '1111111111001011', (10, 7): '1111111111001100', (10, 8): '1111111111001101', (10, 9): '1111111111001110', (10, 10): '1111111111001111', (11, 1): '1111111001', (11, 2): '1111111111010000', (11, 3): '1111111111010001', (11, 4): '1111111111010010', (11, 5): '1111111111010011', (11, 6): '1111111111010100', (11, 7): '1111111111010101', (11, 8): '1111111111010110', (11, 9): '1111111111010111', (11, 10): '1111111111011000', (12, 1): '1111111010', (12, 2): '1111111111011001', (12, 3): '1111111111011010', (12, 4): '1111111111011011', (12, 5): '1111111111011100', (12, 6): '1111111111011101', (12, 7): '1111111111011110', (12, 8): '1111111111011111', (12, 9): '1111111111100000', (12, 10): '1111111111100001', (13, 1): '11111111000', (13, 2): '1111111111100010', (13, 3): '1111111111100011', (13, 4): '1111111111100100', (13, 5): '1111111111100101', (13, 6): '1111111111100110', (13, 7): '1111111111100111', (13, 8): '1111111111101000', (13, 9): '1111111111101001', (13, 10): '1111111111101010', (14, 1): '1111111111101011', (14, 2): '1111111111101100', (14, 3): '1111111111101101', (14, 4): '1111111111101110', (14, 5): '1111111111101111', (14, 6): '1111111111110000', (14, 7): '1111111111110001', (14, 8): '1111111111110010', (14, 9): '1111111111110011', (14, 10): '1111111111110100', (15, 0): '11111111001', (15, 1): '1111111111110101', (15, 2): '1111111111110110', (15, 3): '1111111111110111', (15, 4): '1111111111111000', (15, 5): '1111111111111001', (15, 6): '1111111111111010', (15, 7): '1111111111111011', (15, 8): '1111111111111100', (15, 9): '1111111111111101', (15, 10): '1111111111111110'}"
   ]
  },
  {
   "cell_type": "code",
   "execution_count": null,
   "metadata": {},
   "outputs": [],
   "source": [
    "def find_suffix(n, category, intb, extb):\n",
    "    \"\"\"\n",
    "    Derives the index of the given number 'n' in its predetermined\n",
    "    category, giving the suffix of its encoding\n",
    "    \"\"\"\n",
    "    index = 0\n",
    "    form = '{0:0' + str(category) + 'b}'\n",
    "    for i in range(-extb, -intb + 1):\n",
    "        if i == n:\n",
    "            return form.format(index)\n",
    "        \n",
    "        index += 1\n",
    "        \n",
    "    for i in range(intb, extb + 1):\n",
    "        if i == n:\n",
    "            return form.format(index)\n",
    "        \n",
    "        index += 1\n",
    "        \n",
    "    return \"error\""
   ]
  },
  {
   "cell_type": "code",
   "execution_count": null,
   "metadata": {},
   "outputs": [],
   "source": [
    "categ, (intb, extb) = category(-3)\n",
    "print(categ, intb, extb)\n",
    "find_suffix(-3, categ, intb, extb)"
   ]
  },
  {
   "cell_type": "code",
   "execution_count": null,
   "metadata": {},
   "outputs": [],
   "source": [
    "def encode(l, prev_dc):\n",
    "    \"\"\"\n",
    "    Find the Huffman encoding of the given list.\n",
    "    The first coefficient is special, and gets special encoding.\n",
    "    \"\"\"\n",
    "    delta_dc = l[0] - prev_dc\n",
    "    categ, (intb, extb) = category(delta_dc)\n",
    "    suffix = find_suffix(delta_dc, categ, intb, extb)\n",
    "    res = dc_code[categ] + suffix\n",
    "    \n",
    "    zeros = 0\n",
    "    for n in l[1:]:\n",
    "        if n == 0:\n",
    "            zeros += 1\n",
    "            continue\n",
    "\n",
    "        categ, (intb, extb) = category(n)\n",
    "        suffix = find_suffix(n, categ, intb, extb)\n",
    "        res += ac_code[(zeros, categ)] + suffix\n",
    "        \n",
    "        zeros = 0\n",
    "        \n",
    "    return res + '1010'"
   ]
  },
  {
   "cell_type": "code",
   "execution_count": null,
   "metadata": {},
   "outputs": [],
   "source": [
    "### HUFFMAN ENCODING TEST AREA ###\n",
    "# This is the same table as in the course, but could not get the same result,\n",
    "# as the tables in the slides and on the site are different\n",
    "l = [-26, -3, 0, -3, -2, -6, 2, -4, 1, -3, 1, 1, 5, 1, 2, -1, 1, -1, 2, 0, 0, 0, 0, 0, -1, -1]\n",
    "encode(l, 0)"
   ]
  },
  {
   "cell_type": "markdown",
   "metadata": {},
   "source": [
    "### Reverse JPEG\n",
    "\n",
    "##### After the JPEG Compression, we still need to uncompress the JPEG image to take a look at the compressed image we did\n",
    "##### Fortunately, the JPEG algorithm is completely reversible, which means:\n",
    "* Decode the Huffman (not shown here)\n",
    "* Reverse the zigzag and add deleted ending zeros\n",
    "* Multiply (element-wise) with the same q factor quantization matrix\n",
    "* Reverse the DCT matrix application\n",
    "* Merge all macro-blocks into one image again\n",
    "* Crop the added row and column to regain original dimensions"
   ]
  },
  {
   "cell_type": "code",
   "execution_count": null,
   "metadata": {},
   "outputs": [],
   "source": [
    "def reverse_zigzag(l):\n",
    "    x, y = 0, 0\n",
    "    a, b = 7, 7\n",
    "    direction = (0, 0)\n",
    "    matrix = np.zeros(shape=(8,8))\n",
    "    \n",
    "    i = 0\n",
    "    \n",
    "    while True and i < len(l):\n",
    "        matrix[x,y] = l[i]\n",
    "        i+=1\n",
    "        \n",
    "        if i >=len(l):\n",
    "            break\n",
    "        if y == b:\n",
    "            matrix[x + 1,y] = l[i]\n",
    "            i+=1\n",
    "            y -= 1\n",
    "            x += 2\n",
    "            direction = (1, -1)\n",
    "        elif x == 0:\n",
    "            matrix[x,y + 1] = l[i]\n",
    "            i+=1\n",
    "            x +=1\n",
    "            direction = (1, -1)\n",
    "        elif x == a:\n",
    "            matrix[x,y + 1] = l[i]\n",
    "            i+=1\n",
    "            if y + 1 == b:\n",
    "                break\n",
    "            y += 2\n",
    "            x -= 1\n",
    "            direction = (-1, 1)\n",
    "        elif y == 0:\n",
    "            matrix[x + 1,y] = l[i]\n",
    "            i+=1\n",
    "            y += 1\n",
    "            direction = (-1, 1)\n",
    "        else:\n",
    "            x += direction[0]\n",
    "            y += direction[1]\n",
    "        \n",
    "    return matrix"
   ]
  },
  {
   "cell_type": "code",
   "execution_count": null,
   "metadata": {},
   "outputs": [],
   "source": [
    "def reverse_split(data, x, y):\n",
    "    \"\"\"\n",
    "    Split a multiple of 8 image into 8x8 macro block list\n",
    "    \"\"\"\n",
    "    \n",
    "    image = np.zeros(shape=(x,y))\n",
    "    index = 0\n",
    "    \n",
    "    for i in range(0, x, 8):\n",
    "        for j in range(0, y, 8):\n",
    "            \n",
    "            for a in range (i, i + 8):\n",
    "                for b in range (j, j + 8):\n",
    "                    image[a,b] = data[index][a- i, b - j]\n",
    "            index+=1\n",
    "                    \n",
    "    return image"
   ]
  },
  {
   "cell_type": "code",
   "execution_count": null,
   "metadata": {},
   "outputs": [],
   "source": [
    "# Like in the slide\n",
    "#Reverse zigzag\n",
    "zigzag_1 = reverse_zigzag(ms)\n",
    "print(zigzag_1, end=\"\\n\\n\")\n",
    "\n",
    "#Reverse Quantization\n",
    "reverse_quant = zigzag_1 * quantization(50)\n",
    "print(\"Reversed Quantization matrix:\\n\",reverse_quant, end=\"\\n\\n\")\n",
    "\n",
    "#Reverse DCT\n",
    "reverse_dct = np.round(D8 @ reverse_quant @ D8.T)\n",
    "print(\"Reversed DCT matrix:\\n\",reverse_dct, end=\"\\n\\n\")\n",
    "reverse_dct += 128\n",
    "print(reverse_dct, end=\"\\n\\n\")\n",
    "\n",
    "#Show macro block\n",
    "test_reverse = Image.fromarray(np.uint8(reverse_dct), 'L')\n",
    "\n",
    "test_reverse = test_reverse.resize((200,200), resample=0)\n",
    "display(test_reverse)"
   ]
  },
  {
   "cell_type": "code",
   "execution_count": null,
   "metadata": {},
   "outputs": [],
   "source": [
    "# For our real image:\n",
    "#Reverse zigzag\n",
    "Im_rv_zig = []\n",
    "for i in range(len(Im_zig)):\n",
    "    Im_rv_zig.append(reverse_zigzag(Im_zig[i]))\n",
    "                \n",
    "print(\"Reversed zigzag matrix:\\n\",Im_rv_zig[3104], end=\"\\n\\n\")\n",
    "\n",
    "#Reverse Quantization\n",
    "reverse_quant = Im_rv_zig * quantization(q)\n",
    "print(\"Reversed quantization matrix:\\n\",reverse_quant[3104], end=\"\\n\\n\")\n",
    "\n",
    "#Reverse DCT\n",
    "reverse_dct = np.round(D8.T @ reverse_quant @ D8)\n",
    "reverse_dct += 128\n",
    "print(\"Reversed DCT matrix:\\n\",reverse_dct[3104], end=\"\\n\\n\")\n",
    "\n",
    "#Show macro block\n",
    "test_reverse = Image.fromarray(np.uint8(reverse_dct[3104]), 'L')\n",
    "\n",
    "test_reverse = test_reverse.resize((200,200), resample=0)\n",
    "display(\"3104th recovered macro-block\", test_reverse)\n",
    "\n",
    "display(\"Original 3104th macro-block\", test_macro)"
   ]
  },
  {
   "cell_type": "code",
   "execution_count": null,
   "metadata": {},
   "outputs": [],
   "source": [
    "# Merge all macro_blocks into one image\n",
    "recovered_im = reverse_split(reverse_dct ,464, 528)\n",
    "print(data, end=\"\\n\\n\")\n",
    "print(np.uint8(recovered_im))\n",
    "\n",
    "#Show macro block\n",
    "reco_Im = Image.fromarray(np.uint8(recovered_im), 'L')\n",
    "display(img)\n",
    "display(reco_Im)"
   ]
  },
  {
   "cell_type": "markdown",
   "metadata": {},
   "source": [
    "### RGB - YUV \n",
    "##### Transform a one channel (R,G,B) or (Y,U,V) to three grayscale channels to pass into JPEG algorithm. This way, we can compress 3 time the image information using the grayscale JPEG algorithm"
   ]
  },
  {
   "cell_type": "code",
   "execution_count": null,
   "metadata": {},
   "outputs": [],
   "source": [
    "# A new Image that show best the different colors of RGB\n",
    "im = Image.open('Images/rainbow_patrick.png', 'r')\n",
    "im = im.convert(\"RGB\")\n",
    "im\n",
    "\n",
    "# Load the image into a numpy matrix\n",
    "rgb_data = np.asarray(im)\n",
    "display(im)"
   ]
  },
  {
   "cell_type": "code",
   "execution_count": null,
   "metadata": {},
   "outputs": [],
   "source": [
    "def get_channel(data, c):\n",
    "    \n",
    "    mat = np.zeros(shape=(data.shape[0],data.shape[1]))\n",
    "    \n",
    "    for i in range(data.shape[0]):\n",
    "        for j in range(data.shape[1]):\n",
    "            \n",
    "            mat[i,j] = data[i, j][c]\n",
    "    \n",
    "    return mat"
   ]
  },
  {
   "cell_type": "code",
   "execution_count": null,
   "metadata": {},
   "outputs": [],
   "source": [
    "#Convert to YUV\n",
    "def RGB2YUV(rgb):\n",
    "     \n",
    "    m = np.array([[ 0.29900, -0.16874,  0.50000],\n",
    "                 [0.58700, -0.33126, -0.41869],\n",
    "                 [ 0.11400, 0.50000, -0.08131]])\n",
    "     \n",
    "    yuv = np.dot(rgb,m)\n",
    "    yuv[:,:,1:]+=128.0\n",
    "    return yuv\n",
    "\n",
    "#Convert to RGB\n",
    "def YUV2RGB(yuv):\n",
    "      \n",
    "    m = np.array([[ 1.0, 1.0, 1.0],\n",
    "                 [-0.000007154783816076815, -0.3441331386566162, 1.7720025777816772],\n",
    "                 [ 1.4019975662231445, -0.7141380310058594 , 0.00001542569043522235] ])\n",
    "    \n",
    "    rgb = np.dot(yuv,m)\n",
    "    rgb[:,:,0]-=179.45477266423404\n",
    "    rgb[:,:,1]+=135.45870971679688\n",
    "    rgb[:,:,2]-=226.8183044444304\n",
    "    return rgb"
   ]
  },
  {
   "cell_type": "markdown",
   "metadata": {},
   "source": [
    "#### Do you want RGB or YUV ?"
   ]
  },
  {
   "cell_type": "code",
   "execution_count": null,
   "metadata": {},
   "outputs": [],
   "source": [
    "rgb = False"
   ]
  },
  {
   "cell_type": "markdown",
   "metadata": {},
   "source": [
    "### Here we separate the 3 channels R-G-B or Y-U-V into 3 grayscale images."
   ]
  },
  {
   "cell_type": "code",
   "execution_count": null,
   "metadata": {},
   "outputs": [],
   "source": [
    "#Convert to YUV\n",
    "if not rgb:\n",
    "    rgb_data = RGB2YUV(rgb_data)\n",
    "\n",
    "#print(data.shape)\n",
    "red = get_channel(rgb_data, 0)\n",
    "green = get_channel(rgb_data, 1)\n",
    "blue = get_channel(rgb_data, 2)\n",
    "\n",
    "#Show macro block\n",
    "im_red = Image.fromarray(np.uint8(red), 'L')\n",
    "im_green = Image.fromarray(np.uint8(green), 'L')\n",
    "im_blue = Image.fromarray(np.uint8(blue), 'L')\n",
    "\n",
    "display(\"channel 1\", im_red)\n",
    "display(\"channel 2\",im_green)\n",
    "display(\"channel 3\",im_blue)"
   ]
  },
  {
   "cell_type": "markdown",
   "metadata": {},
   "source": [
    "###### R-G-B and Y channels use the normal quantization matrix. The U and V channels use another quantization matrix which is:"
   ]
  },
  {
   "cell_type": "code",
   "execution_count": null,
   "metadata": {},
   "outputs": [],
   "source": [
    "# Matrix tu use for quantization with U and V channels\n",
    "quant_UV = [[17,18,24,47,99,99,99,99],\n",
    "                   [18,21,26,66,99,99,99,99],\n",
    "                   [24,26,56,99,99,99,99,99],\n",
    "                   [47,66,99,99,99,99,99,99],\n",
    "                   [99,99,99,99,99,99,99,99],\n",
    "                   [99,99,99,99,99,99,99,99],\n",
    "                   [99,99,99,99,99,99,99,99],\n",
    "                   [99,99,99,99,99,99,99,99]]\n",
    "\n",
    "quantization_UV = np.array(quant_UV)"
   ]
  },
  {
   "cell_type": "markdown",
   "metadata": {},
   "source": [
    "### Downsampling"
   ]
  },
  {
   "cell_type": "markdown",
   "metadata": {},
   "source": [
    "###### Downsampling is used to gain even more compression by cropping the U and V channel in YUV compression. Because the two images are pretty \"flat\", removing one every two columns or row does not alter a lot the information.\n",
    "\n",
    "There are 3 Dowsampling in YUV:\n",
    "* 4:4:4 is normal compression\n",
    "* 4:2:2 is one every two columns\n",
    "* 4:2:0 is one every two columns and row"
   ]
  },
  {
   "cell_type": "code",
   "execution_count": null,
   "metadata": {},
   "outputs": [],
   "source": [
    "def downsampling_422(channel):\n",
    "    new_col = int(channel.shape[1]/2)\n",
    "    mat = np.zeros(shape=(channel.shape[0], new_col))\n",
    "    \n",
    "    for i in range(channel.shape[0]):\n",
    "        for j in range(new_col):\n",
    "            mat[i,j] = channel[i,j*2]\n",
    "    \n",
    "    return mat"
   ]
  },
  {
   "cell_type": "code",
   "execution_count": null,
   "metadata": {},
   "outputs": [],
   "source": [
    "def downsampling_420(channel):\n",
    "    new_col = int(channel.shape[1]/2)\n",
    "    new_row = int(channel.shape[0]/2)\n",
    "    mat = np.zeros(shape=(new_row, new_col))\n",
    "    \n",
    "    for i in range(new_row):\n",
    "        for j in range(new_col):\n",
    "            mat[i,j] = channel[i*2,j*2]\n",
    "    \n",
    "    return mat"
   ]
  },
  {
   "cell_type": "code",
   "execution_count": null,
   "metadata": {},
   "outputs": [],
   "source": [
    "### Here you can see the 4:2:2 downsampling on U and V channels"
   ]
  },
  {
   "cell_type": "code",
   "execution_count": null,
   "metadata": {},
   "outputs": [],
   "source": [
    "dw_422 = Image.fromarray(np.uint8(downsampling_422(green)), 'L')\n",
    "display(\"Channel U\", dw_422)\n",
    "\n",
    "dw_422 = Image.fromarray(np.uint8(downsampling_422(blue)), 'L')\n",
    "display(\"Channel V\", dw_422)"
   ]
  },
  {
   "cell_type": "markdown",
   "metadata": {},
   "source": [
    "### Here you can see the 4:2:0 downsampling on U and V channels"
   ]
  },
  {
   "cell_type": "code",
   "execution_count": null,
   "metadata": {},
   "outputs": [],
   "source": [
    "dw_420 = Image.fromarray(np.uint8(downsampling_420(green)), 'L')\n",
    "display(\"Channel U\", dw_420)\n",
    "\n",
    "dw_420 = Image.fromarray(np.uint8(downsampling_420(blue)), 'L')\n",
    "display(\"Channel V\", dw_420)"
   ]
  },
  {
   "cell_type": "markdown",
   "metadata": {},
   "source": [
    "### Interpolation by nearest neightbour"
   ]
  },
  {
   "cell_type": "markdown",
   "metadata": {},
   "source": [
    "#### When uncompressing the images, we need to restore the real image size for those two channel. To do so, we use the nearest neightbour interpolation algorithm.\n",
    "#### The PIL library does it nicely with resample = 1 being Image.NEAREST (nearest neightbour)"
   ]
  },
  {
   "cell_type": "code",
   "execution_count": null,
   "metadata": {},
   "outputs": [],
   "source": [
    "dw_422 = dw_422.resize((blue.shape[0], blue.shape[1]), resample=1)\n",
    "display(\"Resized channel U\", dw_422)\n",
    "\n",
    "dw_420 = dw_420.resize((blue.shape[0], blue.shape[1]), resample=1)\n",
    "display(\"Resized channel V\", dw_420)"
   ]
  },
  {
   "cell_type": "markdown",
   "metadata": {},
   "source": [
    "### Regroup the channels\n",
    "\n",
    "##### When uncompressing, we need to restore the full RGB or YUV image into one. To do so, we merge the 3 channel images into one 3 dimensional matrix."
   ]
  },
  {
   "cell_type": "code",
   "execution_count": null,
   "metadata": {},
   "outputs": [],
   "source": [
    "def regroup_channels(mat1, mat2, mat3):\n",
    "    \n",
    "    mat = np.zeros(shape=(mat1.shape[0], mat1.shape[1], 3))\n",
    "    \n",
    "    for i in range(mat1.shape[0]):\n",
    "        for j in range(mat2.shape[1]):\n",
    "            mat[i,j] = (mat1[i,j], mat2[i,j], mat3[i,j])\n",
    "            \n",
    "    return mat"
   ]
  },
  {
   "cell_type": "markdown",
   "metadata": {},
   "source": [
    "# JPEG FULL FUNCTION\n",
    "\n",
    "### Here is the JPEG algorithm function for grayscale image, followed  by the JPEG RGB/YUV compression/uncompression function"
   ]
  },
  {
   "cell_type": "code",
   "execution_count": null,
   "metadata": {},
   "outputs": [],
   "source": [
    "def jpeg_gray_algo(channel, is_rgb=True, q = 50):\n",
    "    # Make the channel multiple of 8 if not\n",
    "    data = multiple_8(channel)\n",
    "    \n",
    "    # Split into macro-blocks\n",
    "    macro_blocks = split(data)\n",
    "    \n",
    "    # DCT\n",
    "    D8 = DCT(8)\n",
    "    \n",
    "    macros = np.array(macro_blocks)\n",
    "    Im_DCT = np.round(D8 @ (macros - 128) @ D8.T)\n",
    "    #Im_DCT = D8 @ (macros - 128) @ D8.T\n",
    "    \n",
    "    # Quantization\n",
    "    if is_rgb :\n",
    "        Im_q = np.round(Im_DCT / quantization(q))\n",
    "    else:\n",
    "        Im_q = np.round(Im_DCT / quantization_UV)\n",
    "    \n",
    "    # Zigzag\n",
    "    Im_zig = []\n",
    "    \n",
    "    for i in range(len(Im_q)):\n",
    "        Im_zig.append(zero_removal(zigzag(Im_q[i])))\n",
    "        \n",
    "    \n",
    "    # Calculate the mean compression ratio:\n",
    "    means=0\n",
    "    for macros_b in Im_zig:\n",
    "        if len(macros_b) != 0:\n",
    "            means += 64 / len(macros_b)\n",
    "        else:\n",
    "            means += 64\n",
    "\n",
    "    means/=len(Im_zig)\n",
    "    #print(\"Mean compression ratio: \", means)\n",
    "    \n",
    "    # HUFFMAN HERE\n",
    "    \n",
    "    # Reverse\n",
    "    Im_rv_zig = []\n",
    "    for i in range(len(Im_zig)):\n",
    "        Im_rv_zig.append(reverse_zigzag(Im_zig[i]))\n",
    "\n",
    "    #Reverse Quantification\n",
    "    if is_rgb:\n",
    "        reverse_quant = Im_rv_zig * quantization(q)\n",
    "    else:\n",
    "        reverse_quant = Im_rv_zig * quantization_UV\n",
    "\n",
    "    #Reverse DCT\n",
    "    reverse_dct = np.round(D8.T @ reverse_quant @ D8)\n",
    "    #reverse_dct = D8.T @ reverse_quant @ D8\n",
    "    reverse_dct += 128\n",
    "    \n",
    "    recovered_im = reverse_split(reverse_dct ,data.shape[0], data.shape[1])\n",
    "    \n",
    "    return np.uint8(recovered_im), means"
   ]
  },
  {
   "cell_type": "code",
   "execution_count": null,
   "metadata": {},
   "outputs": [],
   "source": [
    "def jpeg_compression(img, is_rgb=True, q=50, downsampling=\"4:4:4\", show_channels=False):\n",
    "    \n",
    "    im = Image.open(img, 'r')\n",
    "    im = im.convert(\"RGB\")\n",
    "    \n",
    "    display(\"Image to compress\",im)\n",
    "    \n",
    "    data = np.asarray(im)\n",
    "    \n",
    "    if not is_rgb:\n",
    "        data = RGB2YUV(data)\n",
    "        \n",
    "    channel_1 = get_channel(data, 0)\n",
    "    channel_2 = get_channel(data, 1)\n",
    "    channel_3 = get_channel(data, 2)\n",
    "    \n",
    "    if downsampling == \"4:2:2\":\n",
    "        channel_2 = downsampling_422(channel_2)\n",
    "        channel_3 = downsampling_422(channel_3)\n",
    "    elif downsampling == \"4:2:0\":\n",
    "        channel_2 = downsampling_420(channel_2)\n",
    "        channel_3 = downsampling_420(channel_3)\n",
    "        \n",
    "    # JPEG Compression\n",
    "    compressed_1, means1 = jpeg_gray_algo(channel_1, q=q)\n",
    "    compressed_2, means2 = jpeg_gray_algo(channel_2, is_rgb, q)\n",
    "    compressed_3, means3 = jpeg_gray_algo(channel_3, is_rgb, q)\n",
    "    \n",
    "    comp_means = (means1 + means2 + means3) / 3\n",
    "    \n",
    "    if show_channels:\n",
    "        c1 = Image.fromarray(np.uint8(compressed_1), 'L')\n",
    "        display(\"Channel 1\",c1)\n",
    "        c2 = Image.fromarray(np.uint8(compressed_2), 'L')\n",
    "        display(\"Channel 2\",c2)\n",
    "        c3 = Image.fromarray(np.uint8(compressed_3), 'L')\n",
    "        display(\"Channel 3\",c3)\n",
    "    \n",
    "    # Use Nearest-Neighbour to rescale images\n",
    "    if downsampling != \"4:4:4\":\n",
    "        dw_2 = Image.fromarray(np.uint8(compressed_2), 'L')\n",
    "        compressed_2 = np.asarray(dw_2.resize((compressed_1.shape[0], compressed_1.shape[1]), resample=1))\n",
    "        \n",
    "        dw_3 = Image.fromarray(np.uint8(compressed_3), 'L')\n",
    "        compressed_3 = np.asarray(dw_3.resize((compressed_1.shape[0], compressed_1.shape[1]), resample=1))\n",
    "        \n",
    "    # Regroup 3 channels\n",
    "    recovered_im = regroup_channels(compressed_1, compressed_2, compressed_3)\n",
    "\n",
    "    \n",
    "    # Print recovered image\n",
    "    if not is_rgb:\n",
    "        rc_im = Image.fromarray(np.uint8(recovered_im), 'RGB')\n",
    "        display(\"YUV Compressed image\",rc_im)\n",
    "        recovered_im = YUV2RGB(recovered_im)\n",
    "    rc_im = Image.fromarray(np.uint8(recovered_im), 'RGB')\n",
    "    display(\"RGB Compressed image\",rc_im)\n",
    "    \n",
    "    print(\"Compression Ratio = \", comp_means)"
   ]
  },
  {
   "cell_type": "markdown",
   "metadata": {},
   "source": [
    "### You can try it here with different images and q factor. \n",
    "#### is_rgb is True when using RGB compression and false when using YUV compression\n",
    "#### The compression ratio is the mean of each mean macro-block ratio compression for the 3 channels"
   ]
  },
  {
   "cell_type": "code",
   "execution_count": null,
   "metadata": {},
   "outputs": [],
   "source": [
    "jpeg_compression(\"Images/Padme_amidala.jpg\", q=75, is_rgb=True, show_channels=False)"
   ]
  },
  {
   "cell_type": "code",
   "execution_count": null,
   "metadata": {},
   "outputs": [],
   "source": []
  }
 ],
 "metadata": {
  "kernelspec": {
   "display_name": "Python 3",
   "language": "python",
   "name": "python3"
  },
  "language_info": {
   "codemirror_mode": {
    "name": "ipython",
    "version": 3
   },
   "file_extension": ".py",
   "mimetype": "text/x-python",
   "name": "python",
   "nbconvert_exporter": "python",
   "pygments_lexer": "ipython3",
   "version": "3.8.3"
  }
 },
 "nbformat": 4,
 "nbformat_minor": 4
}
