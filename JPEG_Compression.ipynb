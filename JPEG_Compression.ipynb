{
 "cells": [
  {
   "cell_type": "markdown",
   "metadata": {},
   "source": [
    "# JPEG Compression"
   ]
  },
  {
   "cell_type": "markdown",
   "metadata": {},
   "source": [
    "## Project\n",
    "\n",
    "#### In this notebook, you have to:\n",
    "* Illustrate and comment every different step of your algorithm, like if you had to explain it to someone who never heard of JPEG.\n",
    "* Implement and analyses all relevant tests to demonstrate the proper functioning of the algorithm.\n",
    "\n",
    "#### Your JPEG code should at least:\n",
    "* Manage color, leaving the choice to the user to compress in RGB or YUV, as well as the sub-sampling options (4:4:4, 4:2:2 and 4:2:0) of chrominance.\n",
    "* Manage images whose dimensions are not 8 multiples\n",
    "* Let the user choose the quality indicator q for the luminance quantification matrix.\n",
    "* Return for each macro-block, a compression indicator. This indicator may be define as in the course (number of coefficient by macro-block to code without compression (64) divide by the number of coefficient not null after zigzag linearisation of the DCT quantified matrix). It can be any other relevant indicator as well, if the choice is justified.\n",
    "\n",
    "#### Bonus:\n",
    "* Implement the conversion of DCT coefficients after quantification by Huffman table."
   ]
  },
  {
   "cell_type": "markdown",
   "metadata": {},
   "source": [
    "### JPEG Algorithm\n",
    "\n",
    "* Step 1 :\n",
    "Split images in 8x8 blocks (if not multiple, add new columns/row with symmetrical inputs.\n",
    "\n",
    "* Step 2 :\n",
    "Apply DCT matrix (don't forget to -128)\n",
    "\n",
    "* Step 3 :\n",
    "Quantification of the matrix\n",
    "\n",
    "* Step 4 :\n",
    "Zigzag + Huffman compression\n",
    "\n",
    "(Reversible to uncompress JPEG as well)"
   ]
  },
  {
   "cell_type": "markdown",
   "metadata": {},
   "source": [
    "### Import"
   ]
  },
  {
   "cell_type": "code",
   "execution_count": null,
   "metadata": {},
   "outputs": [],
   "source": [
    "import numpy as np\n",
    "from PIL import Image"
   ]
  },
  {
   "cell_type": "markdown",
   "metadata": {},
   "source": [
    "### Get list of pixel from Image"
   ]
  },
  {
   "cell_type": "code",
   "execution_count": null,
   "metadata": {},
   "outputs": [],
   "source": [
    "im = Image.open('Images/Padme_amidala.jpg', 'r')\n",
    "im = im.convert(\"LA\")"
   ]
  },
  {
   "cell_type": "code",
   "execution_count": null,
   "metadata": {},
   "outputs": [],
   "source": [
    "data = np.asarray(im)\n",
    "transpose = Image.fromarray(np.rot90(data), 'LA')\n",
    "transpose"
   ]
  },
  {
   "cell_type": "markdown",
   "metadata": {},
   "source": [
    "### Image Split\n",
    "\n",
    "If the image is not a multiple of 8, make it one by adding row and cells.\n",
    "Divide the image into macro-block of 8x8pixels."
   ]
  },
  {
   "cell_type": "code",
   "execution_count": null,
   "metadata": {},
   "outputs": [],
   "source": []
  },
  {
   "cell_type": "markdown",
   "metadata": {},
   "source": [
    "### Apply DCT matrix\n",
    "\n",
    "explain here"
   ]
  },
  {
   "cell_type": "code",
   "execution_count": null,
   "metadata": {},
   "outputs": [],
   "source": []
  },
  {
   "cell_type": "markdown",
   "metadata": {},
   "source": [
    "### Quantification of the matrix\n",
    "\n",
    "Explain here"
   ]
  },
  {
   "cell_type": "code",
   "execution_count": null,
   "metadata": {},
   "outputs": [],
   "source": []
  },
  {
   "cell_type": "markdown",
   "metadata": {},
   "source": [
    "### Zigzag + Huffman\n",
    "\n",
    "Explain here"
   ]
  },
  {
   "cell_type": "code",
   "execution_count": null,
   "metadata": {},
   "outputs": [],
   "source": []
  }
 ],
 "metadata": {
  "kernelspec": {
   "display_name": "Python 3",
   "language": "python",
   "name": "python3"
  },
  "language_info": {
   "codemirror_mode": {
    "name": "ipython",
    "version": 3
   },
   "file_extension": ".py",
   "mimetype": "text/x-python",
   "name": "python",
   "nbconvert_exporter": "python",
   "pygments_lexer": "ipython3",
   "version": "3.8.2"
  }
 },
 "nbformat": 4,
 "nbformat_minor": 4
}
