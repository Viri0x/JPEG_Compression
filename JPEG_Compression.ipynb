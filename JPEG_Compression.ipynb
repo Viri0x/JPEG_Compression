{
 "cells": [
  {
   "cell_type": "markdown",
   "metadata": {},
   "source": [
    "# JPEG Compression"
   ]
  },
  {
   "cell_type": "markdown",
   "metadata": {},
   "source": [
    "## Project\n",
    "\n",
    "#### In this notebook, you have to:\n",
    "* Illustrate and comment every differents step of your algorithm, like if you had to explain it to someone who never heard of JPEG.\n",
    "* Implement and analyse all relevant tests to demonstrate the proper functionning of the algorithm.\n",
    "\n",
    "#### Your JPEG code should at least:\n",
    "* Manage color, leaving the choice to the user to compress in RGB or YUV, as well as the sub-sampling options (4:4:4, 4:2:2 and 4:2:0) of chrominance.\n",
    "* Manage images whose dimensions are not 8 multiples\n",
    "* Let the user choose the quality indicator q for the luminance quantification matrix.\n",
    "* Return for each macro-block, a compression indicator. This indicator may be define as in the course (number of coefficient by macro-block to code without compression (64) divide by the number of coefficient not null after zigzag linearisation of the DCT quantified matrix). It can be any other relevant indicator as well, if the choice is justified.\n",
    "\n",
    "#### Bonus:\n",
    "* Implement the conversion of DCT coefficients after quantification by Huffman table."
   ]
  },
  {
   "cell_type": "code",
   "execution_count": null,
   "metadata": {},
   "outputs": [],
   "source": []
  }
 ],
 "metadata": {
  "kernelspec": {
   "display_name": "Python 3",
   "language": "python",
   "name": "python3"
  },
  "language_info": {
   "codemirror_mode": {
    "name": "ipython",
    "version": 3
   },
   "file_extension": ".py",
   "mimetype": "text/x-python",
   "name": "python",
   "nbconvert_exporter": "python",
   "pygments_lexer": "ipython3",
   "version": "3.8.2"
  }
 },
 "nbformat": 4,
 "nbformat_minor": 4
}
